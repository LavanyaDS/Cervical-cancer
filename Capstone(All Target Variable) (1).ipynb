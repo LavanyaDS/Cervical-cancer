{
 "cells": [
  {
   "cell_type": "markdown",
   "metadata": {},
   "source": [
    "# Librarys and Dataset"
   ]
  },
  {
   "cell_type": "code",
   "execution_count": 1,
   "metadata": {},
   "outputs": [
    {
     "data": {
      "text/plain": [
       "<Figure size 2000x1000 with 0 Axes>"
      ]
     },
     "execution_count": 1,
     "metadata": {},
     "output_type": "execute_result"
    }
   ],
   "source": [
    "import pandas as pd\n",
    "import numpy as np\n",
    "import sklearn.metrics\n",
    "from sklearn.metrics import accuracy_score\n",
    "from sklearn.metrics import confusion_matrix\n",
    "from sklearn.metrics import classification_report\n",
    "from sklearn.metrics import precision_score\n",
    "from sklearn.metrics import recall_score\n",
    "from sklearn.metrics import roc_auc_score\n",
    "import pandas as pd\n",
    "import numpy as np\n",
    "from sklearn.tree import DecisionTreeClassifier\n",
    "from sklearn.linear_model import LogisticRegression\n",
    "from sklearn.ensemble import RandomForestClassifier\n",
    "import matplotlib.pyplot as plt\n",
    "from sklearn import metrics\n",
    "from sklearn.metrics import roc_curve, auc\n",
    "from sklearn.naive_bayes import GaussianNB, BernoulliNB, MultinomialNB\n",
    "import warnings\n",
    "warnings.filterwarnings('ignore')\n",
    "from sklearn.svm import SVC\n",
    "from sklearn.model_selection import train_test_split\n",
    "from sklearn import metrics\n",
    "from sklearn.metrics import roc_curve, auc\n",
    "from sklearn.model_selection import cross_val_score\n",
    "from sklearn.metrics import accuracy_score, confusion_matrix, recall_score, roc_auc_score, precision_score,classification_report\n",
    "plt.figure(figsize=(20,10))"
   ]
  },
  {
   "cell_type": "markdown",
   "metadata": {},
   "source": [
    "# Dataset Load\n",
    "Using pandas, load dataset for processing."
   ]
  },
  {
   "cell_type": "code",
   "execution_count": 2,
   "metadata": {},
   "outputs": [],
   "source": [
    "data_org=pd.read_csv('data_csv.csv')"
   ]
  },
  {
   "cell_type": "code",
   "execution_count": 3,
   "metadata": {},
   "outputs": [],
   "source": [
    "data_clean = data_org.copy(deep=True)"
   ]
  },
  {
   "cell_type": "markdown",
   "metadata": {},
   "source": [
    "# Data Analysis\n",
    "Let's have a look in some rows of the dataset..."
   ]
  },
  {
   "cell_type": "code",
   "execution_count": 4,
   "metadata": {},
   "outputs": [
    {
     "data": {
      "text/html": [
       "<div>\n",
       "<style scoped>\n",
       "    .dataframe tbody tr th:only-of-type {\n",
       "        vertical-align: middle;\n",
       "    }\n",
       "\n",
       "    .dataframe tbody tr th {\n",
       "        vertical-align: top;\n",
       "    }\n",
       "\n",
       "    .dataframe thead th {\n",
       "        text-align: right;\n",
       "    }\n",
       "</style>\n",
       "<table border=\"1\" class=\"dataframe\">\n",
       "  <thead>\n",
       "    <tr style=\"text-align: right;\">\n",
       "      <th></th>\n",
       "      <th>Age</th>\n",
       "      <th>Number of sexual partners</th>\n",
       "      <th>First sexual intercourse</th>\n",
       "      <th>Num of pregnancies</th>\n",
       "      <th>Smokes</th>\n",
       "      <th>Smokes (years)</th>\n",
       "      <th>Smokes (packs/year)</th>\n",
       "      <th>Hormonal Contraceptives</th>\n",
       "      <th>Hormonal Contraceptives (years)</th>\n",
       "      <th>IUD</th>\n",
       "      <th>...</th>\n",
       "      <th>STDs: Time since first diagnosis</th>\n",
       "      <th>STDs: Time since last diagnosis</th>\n",
       "      <th>Dx:Cancer</th>\n",
       "      <th>Dx:CIN</th>\n",
       "      <th>Dx:HPV</th>\n",
       "      <th>Dx</th>\n",
       "      <th>Hinselmann</th>\n",
       "      <th>Schiller</th>\n",
       "      <th>Citology</th>\n",
       "      <th>Biopsy</th>\n",
       "    </tr>\n",
       "  </thead>\n",
       "  <tbody>\n",
       "    <tr>\n",
       "      <th>0</th>\n",
       "      <td>18</td>\n",
       "      <td>4</td>\n",
       "      <td>15</td>\n",
       "      <td>1</td>\n",
       "      <td>0</td>\n",
       "      <td>0.0</td>\n",
       "      <td>0.0</td>\n",
       "      <td>0</td>\n",
       "      <td>0.0</td>\n",
       "      <td>0</td>\n",
       "      <td>...</td>\n",
       "      <td>0</td>\n",
       "      <td>0</td>\n",
       "      <td>0</td>\n",
       "      <td>0</td>\n",
       "      <td>0</td>\n",
       "      <td>0</td>\n",
       "      <td>0</td>\n",
       "      <td>0</td>\n",
       "      <td>0</td>\n",
       "      <td>0</td>\n",
       "    </tr>\n",
       "    <tr>\n",
       "      <th>1</th>\n",
       "      <td>15</td>\n",
       "      <td>1</td>\n",
       "      <td>14</td>\n",
       "      <td>1</td>\n",
       "      <td>0</td>\n",
       "      <td>0.0</td>\n",
       "      <td>0.0</td>\n",
       "      <td>0</td>\n",
       "      <td>0.0</td>\n",
       "      <td>0</td>\n",
       "      <td>...</td>\n",
       "      <td>0</td>\n",
       "      <td>0</td>\n",
       "      <td>0</td>\n",
       "      <td>0</td>\n",
       "      <td>0</td>\n",
       "      <td>0</td>\n",
       "      <td>0</td>\n",
       "      <td>0</td>\n",
       "      <td>0</td>\n",
       "      <td>0</td>\n",
       "    </tr>\n",
       "    <tr>\n",
       "      <th>2</th>\n",
       "      <td>34</td>\n",
       "      <td>1</td>\n",
       "      <td>17</td>\n",
       "      <td>1</td>\n",
       "      <td>0</td>\n",
       "      <td>0.0</td>\n",
       "      <td>0.0</td>\n",
       "      <td>0</td>\n",
       "      <td>0.0</td>\n",
       "      <td>0</td>\n",
       "      <td>...</td>\n",
       "      <td>0</td>\n",
       "      <td>0</td>\n",
       "      <td>0</td>\n",
       "      <td>0</td>\n",
       "      <td>0</td>\n",
       "      <td>0</td>\n",
       "      <td>0</td>\n",
       "      <td>0</td>\n",
       "      <td>0</td>\n",
       "      <td>0</td>\n",
       "    </tr>\n",
       "    <tr>\n",
       "      <th>3</th>\n",
       "      <td>52</td>\n",
       "      <td>5</td>\n",
       "      <td>16</td>\n",
       "      <td>4</td>\n",
       "      <td>1</td>\n",
       "      <td>37.0</td>\n",
       "      <td>37.0</td>\n",
       "      <td>1</td>\n",
       "      <td>3.0</td>\n",
       "      <td>0</td>\n",
       "      <td>...</td>\n",
       "      <td>0</td>\n",
       "      <td>0</td>\n",
       "      <td>1</td>\n",
       "      <td>0</td>\n",
       "      <td>1</td>\n",
       "      <td>0</td>\n",
       "      <td>0</td>\n",
       "      <td>0</td>\n",
       "      <td>0</td>\n",
       "      <td>0</td>\n",
       "    </tr>\n",
       "    <tr>\n",
       "      <th>4</th>\n",
       "      <td>46</td>\n",
       "      <td>3</td>\n",
       "      <td>21</td>\n",
       "      <td>4</td>\n",
       "      <td>0</td>\n",
       "      <td>0.0</td>\n",
       "      <td>0.0</td>\n",
       "      <td>1</td>\n",
       "      <td>15.0</td>\n",
       "      <td>0</td>\n",
       "      <td>...</td>\n",
       "      <td>0</td>\n",
       "      <td>0</td>\n",
       "      <td>0</td>\n",
       "      <td>0</td>\n",
       "      <td>0</td>\n",
       "      <td>0</td>\n",
       "      <td>0</td>\n",
       "      <td>0</td>\n",
       "      <td>0</td>\n",
       "      <td>0</td>\n",
       "    </tr>\n",
       "  </tbody>\n",
       "</table>\n",
       "<p>5 rows × 36 columns</p>\n",
       "</div>"
      ],
      "text/plain": [
       "   Age  Number of sexual partners  First sexual intercourse  \\\n",
       "0   18                          4                        15   \n",
       "1   15                          1                        14   \n",
       "2   34                          1                        17   \n",
       "3   52                          5                        16   \n",
       "4   46                          3                        21   \n",
       "\n",
       "   Num of pregnancies  Smokes  Smokes (years)  Smokes (packs/year)  \\\n",
       "0                   1       0             0.0                  0.0   \n",
       "1                   1       0             0.0                  0.0   \n",
       "2                   1       0             0.0                  0.0   \n",
       "3                   4       1            37.0                 37.0   \n",
       "4                   4       0             0.0                  0.0   \n",
       "\n",
       "   Hormonal Contraceptives  Hormonal Contraceptives (years)  IUD   ...    \\\n",
       "0                        0                              0.0    0   ...     \n",
       "1                        0                              0.0    0   ...     \n",
       "2                        0                              0.0    0   ...     \n",
       "3                        1                              3.0    0   ...     \n",
       "4                        1                             15.0    0   ...     \n",
       "\n",
       "   STDs: Time since first diagnosis  STDs: Time since last diagnosis  \\\n",
       "0                                 0                                0   \n",
       "1                                 0                                0   \n",
       "2                                 0                                0   \n",
       "3                                 0                                0   \n",
       "4                                 0                                0   \n",
       "\n",
       "   Dx:Cancer  Dx:CIN  Dx:HPV  Dx  Hinselmann  Schiller  Citology  Biopsy  \n",
       "0          0       0       0   0           0         0         0       0  \n",
       "1          0       0       0   0           0         0         0       0  \n",
       "2          0       0       0   0           0         0         0       0  \n",
       "3          1       0       1   0           0         0         0       0  \n",
       "4          0       0       0   0           0         0         0       0  \n",
       "\n",
       "[5 rows x 36 columns]"
      ]
     },
     "execution_count": 4,
     "metadata": {},
     "output_type": "execute_result"
    }
   ],
   "source": [
    "data_clean.head()"
   ]
  },
  {
   "cell_type": "code",
   "execution_count": 5,
   "metadata": {},
   "outputs": [
    {
     "data": {
      "text/plain": [
       "(858, 36)"
      ]
     },
     "execution_count": 5,
     "metadata": {},
     "output_type": "execute_result"
    }
   ],
   "source": [
    "data_clean.shape"
   ]
  },
  {
   "cell_type": "code",
   "execution_count": 6,
   "metadata": {},
   "outputs": [],
   "source": [
    "data_clean = data_clean.convert_objects(convert_numeric=True)"
   ]
  },
  {
   "cell_type": "code",
   "execution_count": 7,
   "metadata": {},
   "outputs": [
    {
     "data": {
      "text/plain": [
       "0    803\n",
       "1     55\n",
       "Name: Biopsy, dtype: int64"
      ]
     },
     "execution_count": 7,
     "metadata": {},
     "output_type": "execute_result"
    }
   ],
   "source": [
    "data_clean.Biopsy.value_counts()"
   ]
  },
  {
   "cell_type": "code",
   "execution_count": 8,
   "metadata": {},
   "outputs": [
    {
     "data": {
      "text/plain": [
       "0    823\n",
       "1     35\n",
       "Name: Hinselmann, dtype: int64"
      ]
     },
     "execution_count": 8,
     "metadata": {},
     "output_type": "execute_result"
    }
   ],
   "source": [
    "data_clean.Hinselmann.value_counts()"
   ]
  },
  {
   "cell_type": "code",
   "execution_count": 9,
   "metadata": {},
   "outputs": [
    {
     "data": {
      "text/plain": [
       "0    814\n",
       "1     44\n",
       "Name: Citology, dtype: int64"
      ]
     },
     "execution_count": 9,
     "metadata": {},
     "output_type": "execute_result"
    }
   ],
   "source": [
    "data_clean.Citology.value_counts()"
   ]
  },
  {
   "cell_type": "code",
   "execution_count": 10,
   "metadata": {},
   "outputs": [
    {
     "data": {
      "text/plain": [
       "0    784\n",
       "1     74\n",
       "Name: Schiller, dtype: int64"
      ]
     },
     "execution_count": 10,
     "metadata": {},
     "output_type": "execute_result"
    }
   ],
   "source": [
    "data_clean.Schiller.value_counts()"
   ]
  },
  {
   "cell_type": "code",
   "execution_count": 11,
   "metadata": {},
   "outputs": [],
   "source": [
    "cancer_df=data_clean.copy(deep=True)"
   ]
  },
  {
   "cell_type": "code",
   "execution_count": 12,
   "metadata": {},
   "outputs": [
    {
     "data": {
      "text/html": [
       "<div>\n",
       "<style scoped>\n",
       "    .dataframe tbody tr th:only-of-type {\n",
       "        vertical-align: middle;\n",
       "    }\n",
       "\n",
       "    .dataframe tbody tr th {\n",
       "        vertical-align: top;\n",
       "    }\n",
       "\n",
       "    .dataframe thead th {\n",
       "        text-align: right;\n",
       "    }\n",
       "</style>\n",
       "<table border=\"1\" class=\"dataframe\">\n",
       "  <thead>\n",
       "    <tr style=\"text-align: right;\">\n",
       "      <th></th>\n",
       "      <th>Age</th>\n",
       "      <th>Number of sexual partners</th>\n",
       "      <th>First sexual intercourse</th>\n",
       "      <th>Num of pregnancies</th>\n",
       "      <th>Smokes</th>\n",
       "      <th>Smokes (years)</th>\n",
       "      <th>Smokes (packs/year)</th>\n",
       "      <th>Hormonal Contraceptives</th>\n",
       "      <th>Hormonal Contraceptives (years)</th>\n",
       "      <th>IUD</th>\n",
       "      <th>...</th>\n",
       "      <th>STDs: Time since first diagnosis</th>\n",
       "      <th>STDs: Time since last diagnosis</th>\n",
       "      <th>Dx:Cancer</th>\n",
       "      <th>Dx:CIN</th>\n",
       "      <th>Dx:HPV</th>\n",
       "      <th>Dx</th>\n",
       "      <th>Hinselmann</th>\n",
       "      <th>Schiller</th>\n",
       "      <th>Citology</th>\n",
       "      <th>Biopsy</th>\n",
       "    </tr>\n",
       "  </thead>\n",
       "  <tbody>\n",
       "    <tr>\n",
       "      <th>0</th>\n",
       "      <td>18</td>\n",
       "      <td>4</td>\n",
       "      <td>15</td>\n",
       "      <td>1</td>\n",
       "      <td>0</td>\n",
       "      <td>0.0</td>\n",
       "      <td>0.0</td>\n",
       "      <td>0</td>\n",
       "      <td>0.0</td>\n",
       "      <td>0</td>\n",
       "      <td>...</td>\n",
       "      <td>0</td>\n",
       "      <td>0</td>\n",
       "      <td>0</td>\n",
       "      <td>0</td>\n",
       "      <td>0</td>\n",
       "      <td>0</td>\n",
       "      <td>0</td>\n",
       "      <td>0</td>\n",
       "      <td>0</td>\n",
       "      <td>0</td>\n",
       "    </tr>\n",
       "    <tr>\n",
       "      <th>1</th>\n",
       "      <td>15</td>\n",
       "      <td>1</td>\n",
       "      <td>14</td>\n",
       "      <td>1</td>\n",
       "      <td>0</td>\n",
       "      <td>0.0</td>\n",
       "      <td>0.0</td>\n",
       "      <td>0</td>\n",
       "      <td>0.0</td>\n",
       "      <td>0</td>\n",
       "      <td>...</td>\n",
       "      <td>0</td>\n",
       "      <td>0</td>\n",
       "      <td>0</td>\n",
       "      <td>0</td>\n",
       "      <td>0</td>\n",
       "      <td>0</td>\n",
       "      <td>0</td>\n",
       "      <td>0</td>\n",
       "      <td>0</td>\n",
       "      <td>0</td>\n",
       "    </tr>\n",
       "    <tr>\n",
       "      <th>2</th>\n",
       "      <td>34</td>\n",
       "      <td>1</td>\n",
       "      <td>17</td>\n",
       "      <td>1</td>\n",
       "      <td>0</td>\n",
       "      <td>0.0</td>\n",
       "      <td>0.0</td>\n",
       "      <td>0</td>\n",
       "      <td>0.0</td>\n",
       "      <td>0</td>\n",
       "      <td>...</td>\n",
       "      <td>0</td>\n",
       "      <td>0</td>\n",
       "      <td>0</td>\n",
       "      <td>0</td>\n",
       "      <td>0</td>\n",
       "      <td>0</td>\n",
       "      <td>0</td>\n",
       "      <td>0</td>\n",
       "      <td>0</td>\n",
       "      <td>0</td>\n",
       "    </tr>\n",
       "    <tr>\n",
       "      <th>3</th>\n",
       "      <td>52</td>\n",
       "      <td>5</td>\n",
       "      <td>16</td>\n",
       "      <td>4</td>\n",
       "      <td>1</td>\n",
       "      <td>37.0</td>\n",
       "      <td>37.0</td>\n",
       "      <td>1</td>\n",
       "      <td>3.0</td>\n",
       "      <td>0</td>\n",
       "      <td>...</td>\n",
       "      <td>0</td>\n",
       "      <td>0</td>\n",
       "      <td>1</td>\n",
       "      <td>0</td>\n",
       "      <td>1</td>\n",
       "      <td>0</td>\n",
       "      <td>0</td>\n",
       "      <td>0</td>\n",
       "      <td>0</td>\n",
       "      <td>0</td>\n",
       "    </tr>\n",
       "    <tr>\n",
       "      <th>4</th>\n",
       "      <td>46</td>\n",
       "      <td>3</td>\n",
       "      <td>21</td>\n",
       "      <td>4</td>\n",
       "      <td>0</td>\n",
       "      <td>0.0</td>\n",
       "      <td>0.0</td>\n",
       "      <td>1</td>\n",
       "      <td>15.0</td>\n",
       "      <td>0</td>\n",
       "      <td>...</td>\n",
       "      <td>0</td>\n",
       "      <td>0</td>\n",
       "      <td>0</td>\n",
       "      <td>0</td>\n",
       "      <td>0</td>\n",
       "      <td>0</td>\n",
       "      <td>0</td>\n",
       "      <td>0</td>\n",
       "      <td>0</td>\n",
       "      <td>0</td>\n",
       "    </tr>\n",
       "  </tbody>\n",
       "</table>\n",
       "<p>5 rows × 36 columns</p>\n",
       "</div>"
      ],
      "text/plain": [
       "   Age  Number of sexual partners  First sexual intercourse  \\\n",
       "0   18                          4                        15   \n",
       "1   15                          1                        14   \n",
       "2   34                          1                        17   \n",
       "3   52                          5                        16   \n",
       "4   46                          3                        21   \n",
       "\n",
       "   Num of pregnancies  Smokes  Smokes (years)  Smokes (packs/year)  \\\n",
       "0                   1       0             0.0                  0.0   \n",
       "1                   1       0             0.0                  0.0   \n",
       "2                   1       0             0.0                  0.0   \n",
       "3                   4       1            37.0                 37.0   \n",
       "4                   4       0             0.0                  0.0   \n",
       "\n",
       "   Hormonal Contraceptives  Hormonal Contraceptives (years)  IUD   ...    \\\n",
       "0                        0                              0.0    0   ...     \n",
       "1                        0                              0.0    0   ...     \n",
       "2                        0                              0.0    0   ...     \n",
       "3                        1                              3.0    0   ...     \n",
       "4                        1                             15.0    0   ...     \n",
       "\n",
       "   STDs: Time since first diagnosis  STDs: Time since last diagnosis  \\\n",
       "0                                 0                                0   \n",
       "1                                 0                                0   \n",
       "2                                 0                                0   \n",
       "3                                 0                                0   \n",
       "4                                 0                                0   \n",
       "\n",
       "   Dx:Cancer  Dx:CIN  Dx:HPV  Dx  Hinselmann  Schiller  Citology  Biopsy  \n",
       "0          0       0       0   0           0         0         0       0  \n",
       "1          0       0       0   0           0         0         0       0  \n",
       "2          0       0       0   0           0         0         0       0  \n",
       "3          1       0       1   0           0         0         0       0  \n",
       "4          0       0       0   0           0         0         0       0  \n",
       "\n",
       "[5 rows x 36 columns]"
      ]
     },
     "execution_count": 12,
     "metadata": {},
     "output_type": "execute_result"
    }
   ],
   "source": [
    "cancer_df.head()"
   ]
  },
  {
   "cell_type": "markdown",
   "metadata": {},
   "source": [
    "# Smote Application"
   ]
  },
  {
   "cell_type": "markdown",
   "metadata": {},
   "source": [
    "# Since smote works on one target variable at a time we have to do each time for each target variable"
   ]
  },
  {
   "cell_type": "code",
   "execution_count": 13,
   "metadata": {},
   "outputs": [],
   "source": [
    "x = cancer_df.drop(['Hinselmann','Schiller','Citology','Biopsy'],axis=1)"
   ]
  },
  {
   "cell_type": "markdown",
   "metadata": {},
   "source": [
    "# Hinselmann"
   ]
  },
  {
   "cell_type": "code",
   "execution_count": 14,
   "metadata": {},
   "outputs": [],
   "source": [
    "y_hin = cancer_df['Hinselmann']"
   ]
  },
  {
   "cell_type": "markdown",
   "metadata": {},
   "source": [
    "* Finally, the base is separated into training and testing for creation and evaluation of the model."
   ]
  },
  {
   "cell_type": "code",
   "execution_count": 15,
   "metadata": {},
   "outputs": [],
   "source": [
    "xtrain_hin, xtest_hin, ytrain_hin, ytest_hin = train_test_split(x, y_hin, test_size=0.3, random_state=11)"
   ]
  },
  {
   "cell_type": "code",
   "execution_count": 16,
   "metadata": {},
   "outputs": [],
   "source": [
    "from imblearn.over_sampling import SMOTE\n",
    "ros = SMOTE(random_state=0,k_neighbors=1,kind='svm',ratio=1,svm_estimator=SVC(kernel='linear'))\n",
    "xtrain_hin, ytrain_hin = ros.fit_resample(xtrain_hin, ytrain_hin)"
   ]
  },
  {
   "cell_type": "code",
   "execution_count": 17,
   "metadata": {},
   "outputs": [
    {
     "data": {
      "text/plain": [
       "0    574\n",
       "1    353\n",
       "Name: Hinselmann, dtype: int64"
      ]
     },
     "execution_count": 17,
     "metadata": {},
     "output_type": "execute_result"
    }
   ],
   "source": [
    "xtrain_hin = pd.DataFrame(xtrain_hin, columns=x.columns)\n",
    "ytrain_hin = pd.DataFrame(ytrain_hin, columns=['Hinselmann'])\n",
    "ytrain_hin.Hinselmann.value_counts()"
   ]
  },
  {
   "cell_type": "markdown",
   "metadata": {},
   "source": [
    "# Biopsy"
   ]
  },
  {
   "cell_type": "code",
   "execution_count": 18,
   "metadata": {},
   "outputs": [],
   "source": [
    "y_bio=cancer_df.Biopsy"
   ]
  },
  {
   "cell_type": "code",
   "execution_count": 19,
   "metadata": {},
   "outputs": [],
   "source": [
    "xtrain_bio, xtest_bio, ytrain_bio, ytest_bio = train_test_split(x, y_bio, test_size=0.3, random_state=11)"
   ]
  },
  {
   "cell_type": "code",
   "execution_count": 20,
   "metadata": {},
   "outputs": [],
   "source": [
    "ros = SMOTE(random_state=0,k_neighbors=1,kind='svm',ratio=1,svm_estimator=SVC(kernel='linear'))\n",
    "xtrain_bio, ytrain_bio = ros.fit_resample(xtrain_bio, ytrain_bio)"
   ]
  },
  {
   "cell_type": "code",
   "execution_count": 21,
   "metadata": {},
   "outputs": [
    {
     "data": {
      "text/plain": [
       "0    557\n",
       "1    350\n",
       "Name: Biopsy, dtype: int64"
      ]
     },
     "execution_count": 21,
     "metadata": {},
     "output_type": "execute_result"
    }
   ],
   "source": [
    "xtrain_bio = pd.DataFrame(xtrain_bio, columns=x.columns)\n",
    "ytrain_bio = pd.DataFrame(ytrain_bio, columns=['Biopsy'])\n",
    "ytrain_bio.Biopsy.value_counts()"
   ]
  },
  {
   "cell_type": "markdown",
   "metadata": {},
   "source": [
    "# Citology"
   ]
  },
  {
   "cell_type": "code",
   "execution_count": 22,
   "metadata": {},
   "outputs": [],
   "source": [
    "y_cit=cancer_df.Citology"
   ]
  },
  {
   "cell_type": "code",
   "execution_count": 23,
   "metadata": {},
   "outputs": [],
   "source": [
    "xtrain_cit, xtest_cit, ytrain_cit, ytest_cit = train_test_split(x, y_cit, test_size=0.3, random_state=11)"
   ]
  },
  {
   "cell_type": "code",
   "execution_count": 24,
   "metadata": {},
   "outputs": [],
   "source": [
    "ros = SMOTE(random_state=0,k_neighbors=1,kind='svm',ratio=1,svm_estimator=SVC(kernel='linear'))\n",
    "xtrain_cit, ytrain_cit = ros.fit_resample(xtrain_cit, ytrain_cit)"
   ]
  },
  {
   "cell_type": "code",
   "execution_count": 25,
   "metadata": {},
   "outputs": [
    {
     "data": {
      "text/plain": [
       "0    573\n",
       "1    353\n",
       "Name: Citology, dtype: int64"
      ]
     },
     "execution_count": 25,
     "metadata": {},
     "output_type": "execute_result"
    }
   ],
   "source": [
    "xtrain_cit = pd.DataFrame(xtrain_cit, columns=x.columns)\n",
    "ytrain_cit = pd.DataFrame(ytrain_cit, columns=['Citology'])\n",
    "ytrain_cit.Citology.value_counts()"
   ]
  },
  {
   "cell_type": "markdown",
   "metadata": {},
   "source": [
    "# Schiller"
   ]
  },
  {
   "cell_type": "code",
   "execution_count": 26,
   "metadata": {},
   "outputs": [],
   "source": [
    "y_sch=cancer_df.Schiller"
   ]
  },
  {
   "cell_type": "code",
   "execution_count": 27,
   "metadata": {},
   "outputs": [],
   "source": [
    "xtrain_sch, xtest_sch, ytrain_sch, ytest_sch = train_test_split(x, y_sch, test_size=0.3, random_state=11)"
   ]
  },
  {
   "cell_type": "code",
   "execution_count": 28,
   "metadata": {},
   "outputs": [],
   "source": [
    "ros = SMOTE(random_state=0,k_neighbors=1,kind='svm',ratio=1,svm_estimator=SVC(kernel='linear'))\n",
    "xtrain_sch, ytrain_sch = ros.fit_resample(xtrain_sch, ytrain_sch)"
   ]
  },
  {
   "cell_type": "code",
   "execution_count": 29,
   "metadata": {},
   "outputs": [
    {
     "data": {
      "text/plain": [
       "0    543\n",
       "1    347\n",
       "Name: Schiller, dtype: int64"
      ]
     },
     "execution_count": 29,
     "metadata": {},
     "output_type": "execute_result"
    }
   ],
   "source": [
    "xtrain_sch = pd.DataFrame(xtrain_sch, columns=x.columns)\n",
    "ytrain_sch = pd.DataFrame(ytrain_sch, columns=['Schiller'])\n",
    "ytrain_sch.Schiller.value_counts()"
   ]
  },
  {
   "cell_type": "markdown",
   "metadata": {},
   "source": [
    "# Logistic Regression"
   ]
  },
  {
   "cell_type": "markdown",
   "metadata": {},
   "source": [
    "# Hinselmann"
   ]
  },
  {
   "cell_type": "code",
   "execution_count": 30,
   "metadata": {},
   "outputs": [
    {
     "data": {
      "text/html": [
       "<div>\n",
       "<style scoped>\n",
       "    .dataframe tbody tr th:only-of-type {\n",
       "        vertical-align: middle;\n",
       "    }\n",
       "\n",
       "    .dataframe tbody tr th {\n",
       "        vertical-align: top;\n",
       "    }\n",
       "\n",
       "    .dataframe thead th {\n",
       "        text-align: right;\n",
       "    }\n",
       "</style>\n",
       "<table border=\"1\" class=\"dataframe\">\n",
       "  <thead>\n",
       "    <tr style=\"text-align: right;\">\n",
       "      <th></th>\n",
       "      <th>0</th>\n",
       "    </tr>\n",
       "  </thead>\n",
       "  <tbody>\n",
       "    <tr>\n",
       "      <th>accuracy</th>\n",
       "      <td>70.155039</td>\n",
       "    </tr>\n",
       "    <tr>\n",
       "      <th>recall</th>\n",
       "      <td>22.222222</td>\n",
       "    </tr>\n",
       "    <tr>\n",
       "      <th>precision</th>\n",
       "      <td>2.777778</td>\n",
       "    </tr>\n",
       "    <tr>\n",
       "      <th>roc_auc_score</th>\n",
       "      <td>47.054886</td>\n",
       "    </tr>\n",
       "  </tbody>\n",
       "</table>\n",
       "</div>"
      ],
      "text/plain": [
       "                       0\n",
       "accuracy       70.155039\n",
       "recall         22.222222\n",
       "precision       2.777778\n",
       "roc_auc_score  47.054886"
      ]
     },
     "execution_count": 30,
     "metadata": {},
     "output_type": "execute_result"
    }
   ],
   "source": [
    "clf_hin = LogisticRegression()\n",
    "clf_hin.fit(xtrain_hin,ytrain_hin)\n",
    "THRESHOLD = 0.35\n",
    "pred_lr_hin = np.where((clf_hin.predict_proba(xtest_hin)[:,1] >= THRESHOLD), 1, 0)\n",
    "\n",
    "pd.DataFrame(data=[accuracy_score(ytest_hin, pred_lr_hin)*100, recall_score(ytest_hin, pred_lr_hin)*100,\n",
    "                   precision_score(ytest_hin, pred_lr_hin)*100, roc_auc_score(ytest_hin, pred_lr_hin)*100], \n",
    "             index=[\"accuracy\", \"recall\", \"precision\", \"roc_auc_score\"])"
   ]
  },
  {
   "cell_type": "code",
   "execution_count": 31,
   "metadata": {},
   "outputs": [
    {
     "name": "stdout",
     "output_type": "stream",
     "text": [
      "              precision    recall  f1-score   support\n",
      "\n",
      "           0       0.96      0.72      0.82       249\n",
      "           1       0.03      0.22      0.05         9\n",
      "\n",
      "   micro avg       0.70      0.70      0.70       258\n",
      "   macro avg       0.50      0.47      0.44       258\n",
      "weighted avg       0.93      0.70      0.80       258\n",
      "\n"
     ]
    }
   ],
   "source": [
    "print(classification_report(ytest_hin, pred_lr_hin))"
   ]
  },
  {
   "cell_type": "code",
   "execution_count": 32,
   "metadata": {},
   "outputs": [
    {
     "data": {
      "text/plain": [
       "array([[179,  70],\n",
       "       [  7,   2]], dtype=int64)"
      ]
     },
     "execution_count": 32,
     "metadata": {},
     "output_type": "execute_result"
    }
   ],
   "source": [
    "confusion_matrix(ytest_hin, pred_lr_hin)"
   ]
  },
  {
   "cell_type": "code",
   "execution_count": 33,
   "metadata": {},
   "outputs": [
    {
     "data": {
      "image/png": "[encoded data removed]",
      "text/plain": [
       "<Figure size 432x288 with 1 Axes>"
      ]
     },
     "metadata": {
      "needs_background": "light"
     },
     "output_type": "display_data"
    },
    {
     "name": "stdout",
     "output_type": "stream",
     "text": [
      "The AUC value for Logistic Regression(SMOTE) is: 0.47054886211512725\n"
     ]
    }
   ],
   "source": [
    "fpr, tpr, thresholds = roc_curve(ytest_hin, pred_lr_hin)\n",
    "plt.plot(fpr, tpr)\n",
    "plt.xlim([0.0, 1.0])\n",
    "plt.ylim([0.0, 1.0])\n",
    "plt.xlabel('False Positive Rate')\n",
    "plt.ylabel('True Positive Rate')\n",
    "plt.title('Receiver operating characteristic of Logistic Regression')\n",
    "plt.show()\n",
    "roc_auc = auc(fpr, tpr)\n",
    "print('The AUC value for Logistic Regression(SMOTE) is:',roc_auc)"
   ]
  },
  {
   "cell_type": "markdown",
   "metadata": {},
   "source": [
    "Changing Threshold"
   ]
  },
  {
   "cell_type": "code",
   "execution_count": 34,
   "metadata": {},
   "outputs": [
    {
     "data": {
      "text/plain": [
       "<matplotlib.legend.Legend at 0x16f445fd0f0>"
      ]
     },
     "execution_count": 34,
     "metadata": {},
     "output_type": "execute_result"
    },
    {
     "data": {
      "image/png": "[encoded data removed]",
      "text/plain": [
       "<Figure size 432x288 with 1 Axes>"
      ]
     },
     "metadata": {
      "needs_background": "light"
     },
     "output_type": "display_data"
    }
   ],
   "source": [
    "threshold=[]\n",
    "recall=[]\n",
    "precision=[]\n",
    "for t in np.arange(0.1,1,0.01):\n",
    "    threshold.append(t)\n",
    "    pred_lr_sch=np.where(clf_hin.predict_proba(xtest_hin)[:,1] > t, 1, 0)\n",
    "    recall.append(recall_score(ytest_hin, pred_lr_hin))\n",
    "    precision.append(precision_score(ytest_hin, pred_lr_hin))  \n",
    "    \n",
    "plt.plot(threshold,recall,label='recall')\n",
    "plt.plot(threshold,precision,label='Precision')\n",
    "plt.legend(loc='best')"
   ]
  },
  {
   "cell_type": "code",
   "execution_count": 35,
   "metadata": {},
   "outputs": [
    {
     "data": {
      "text/html": [
       "<div>\n",
       "<style scoped>\n",
       "    .dataframe tbody tr th:only-of-type {\n",
       "        vertical-align: middle;\n",
       "    }\n",
       "\n",
       "    .dataframe tbody tr th {\n",
       "        vertical-align: top;\n",
       "    }\n",
       "\n",
       "    .dataframe thead th {\n",
       "        text-align: right;\n",
       "    }\n",
       "</style>\n",
       "<table border=\"1\" class=\"dataframe\">\n",
       "  <thead>\n",
       "    <tr style=\"text-align: right;\">\n",
       "      <th></th>\n",
       "      <th>0</th>\n",
       "    </tr>\n",
       "  </thead>\n",
       "  <tbody>\n",
       "    <tr>\n",
       "      <th>accuracy</th>\n",
       "      <td>71.317829</td>\n",
       "    </tr>\n",
       "    <tr>\n",
       "      <th>recall</th>\n",
       "      <td>22.222222</td>\n",
       "    </tr>\n",
       "    <tr>\n",
       "      <th>precision</th>\n",
       "      <td>2.898551</td>\n",
       "    </tr>\n",
       "    <tr>\n",
       "      <th>roc_auc_score</th>\n",
       "      <td>47.657296</td>\n",
       "    </tr>\n",
       "  </tbody>\n",
       "</table>\n",
       "</div>"
      ],
      "text/plain": [
       "                       0\n",
       "accuracy       71.317829\n",
       "recall         22.222222\n",
       "precision       2.898551\n",
       "roc_auc_score  47.657296"
      ]
     },
     "execution_count": 35,
     "metadata": {},
     "output_type": "execute_result"
    }
   ],
   "source": [
    "clf_hin = LogisticRegression()\n",
    "clf_hin.fit(xtrain_hin,ytrain_hin)\n",
    "THRESHOLD = 0.38\n",
    "pred_lr_hin = np.where((clf_hin.predict_proba(xtest_hin)[:,1] >= THRESHOLD), 1, 0)\n",
    "\n",
    "pd.DataFrame(data=[accuracy_score(ytest_hin, pred_lr_hin)*100, recall_score(ytest_hin, pred_lr_hin)*100,\n",
    "                   precision_score(ytest_hin, pred_lr_hin)*100, roc_auc_score(ytest_hin, pred_lr_hin)*100], \n",
    "             index=[\"accuracy\", \"recall\", \"precision\", \"roc_auc_score\"])"
   ]
  },
  {
   "cell_type": "markdown",
   "metadata": {},
   "source": [
    "# Biopsy"
   ]
  },
  {
   "cell_type": "code",
   "execution_count": 36,
   "metadata": {},
   "outputs": [
    {
     "data": {
      "text/html": [
       "<div>\n",
       "<style scoped>\n",
       "    .dataframe tbody tr th:only-of-type {\n",
       "        vertical-align: middle;\n",
       "    }\n",
       "\n",
       "    .dataframe tbody tr th {\n",
       "        vertical-align: top;\n",
       "    }\n",
       "\n",
       "    .dataframe thead th {\n",
       "        text-align: right;\n",
       "    }\n",
       "</style>\n",
       "<table border=\"1\" class=\"dataframe\">\n",
       "  <thead>\n",
       "    <tr style=\"text-align: right;\">\n",
       "      <th></th>\n",
       "      <th>0</th>\n",
       "    </tr>\n",
       "  </thead>\n",
       "  <tbody>\n",
       "    <tr>\n",
       "      <th>accuracy</th>\n",
       "      <td>70.930233</td>\n",
       "    </tr>\n",
       "    <tr>\n",
       "      <th>recall</th>\n",
       "      <td>33.333333</td>\n",
       "    </tr>\n",
       "    <tr>\n",
       "      <th>precision</th>\n",
       "      <td>5.633803</td>\n",
       "    </tr>\n",
       "    <tr>\n",
       "      <th>roc_auc_score</th>\n",
       "      <td>53.048780</td>\n",
       "    </tr>\n",
       "  </tbody>\n",
       "</table>\n",
       "</div>"
      ],
      "text/plain": [
       "                       0\n",
       "accuracy       70.930233\n",
       "recall         33.333333\n",
       "precision       5.633803\n",
       "roc_auc_score  53.048780"
      ]
     },
     "execution_count": 36,
     "metadata": {},
     "output_type": "execute_result"
    }
   ],
   "source": [
    "clf_bio = LogisticRegression()\n",
    "clf_bio.fit(xtrain_bio,ytrain_bio)\n",
    "THRESHOLD = 0.35\n",
    "pred_lr_bio = np.where((clf_bio.predict_proba(xtest_bio)[:,1] >= THRESHOLD), 1, 0)\n",
    "\n",
    "pd.DataFrame(data=[accuracy_score(ytest_bio, pred_lr_bio)*100, recall_score(ytest_bio, pred_lr_bio)*100,\n",
    "                   precision_score(ytest_bio, pred_lr_bio)*100, roc_auc_score(ytest_bio, pred_lr_bio)*100], \n",
    "             index=[\"accuracy\", \"recall\", \"precision\", \"roc_auc_score\"])"
   ]
  },
  {
   "cell_type": "code",
   "execution_count": 37,
   "metadata": {},
   "outputs": [
    {
     "name": "stdout",
     "output_type": "stream",
     "text": [
      "              precision    recall  f1-score   support\n",
      "\n",
      "           0       0.96      0.73      0.83       246\n",
      "           1       0.06      0.33      0.10        12\n",
      "\n",
      "   micro avg       0.71      0.71      0.71       258\n",
      "   macro avg       0.51      0.53      0.46       258\n",
      "weighted avg       0.92      0.71      0.79       258\n",
      "\n"
     ]
    }
   ],
   "source": [
    "print(classification_report(ytest_bio, pred_lr_bio))"
   ]
  },
  {
   "cell_type": "code",
   "execution_count": 38,
   "metadata": {},
   "outputs": [
    {
     "data": {
      "text/plain": [
       "array([[179,  67],\n",
       "       [  8,   4]], dtype=int64)"
      ]
     },
     "execution_count": 38,
     "metadata": {},
     "output_type": "execute_result"
    }
   ],
   "source": [
    "confusion_matrix(ytest_bio, pred_lr_bio)"
   ]
  },
  {
   "cell_type": "code",
   "execution_count": 39,
   "metadata": {},
   "outputs": [
    {
     "data": {
      "image/png": "[encoded data removed]",
      "text/plain": [
       "<Figure size 432x288 with 1 Axes>"
      ]
     },
     "metadata": {
      "needs_background": "light"
     },
     "output_type": "display_data"
    },
    {
     "name": "stdout",
     "output_type": "stream",
     "text": [
      "The AUC value for Logistic Regression(SMOTE) is: 0.5304878048780488\n"
     ]
    }
   ],
   "source": [
    "fpr, tpr, thresholds = roc_curve(ytest_bio, pred_lr_bio)\n",
    "plt.plot(fpr, tpr)\n",
    "plt.xlim([0.0, 1.0])\n",
    "plt.ylim([0.0, 1.0])\n",
    "plt.xlabel('False Positive Rate')\n",
    "plt.ylabel('True Positive Rate')\n",
    "plt.title('Receiver operating characteristic of Logistic Regression')\n",
    "plt.show()\n",
    "roc_auc = auc(fpr, tpr)\n",
    "print('The AUC value for Logistic Regression(SMOTE) is:',roc_auc)"
   ]
  },
  {
   "cell_type": "markdown",
   "metadata": {},
   "source": [
    "Changing Threshold"
   ]
  },
  {
   "cell_type": "code",
   "execution_count": 40,
   "metadata": {},
   "outputs": [
    {
     "data": {
      "text/plain": [
       "<matplotlib.legend.Legend at 0x16f446d3e10>"
      ]
     },
     "execution_count": 40,
     "metadata": {},
     "output_type": "execute_result"
    },
    {
     "data": {
      "image/png": "[encoded data removed]",
      "text/plain": [
       "<Figure size 432x288 with 1 Axes>"
      ]
     },
     "metadata": {
      "needs_background": "light"
     },
     "output_type": "display_data"
    }
   ],
   "source": [
    "threshold=[]\n",
    "recall=[]\n",
    "precision=[]\n",
    "for t in np.arange(0.1,1,0.01):\n",
    "    threshold.append(t)\n",
    "    pred_lr_bio=np.where(clf_bio.predict_proba(xtest_bio)[:,1] > t, 1, 0)\n",
    "    recall.append(recall_score(ytest_bio, pred_lr_bio))\n",
    "    precision.append(precision_score(ytest_bio, pred_lr_bio))  \n",
    "    \n",
    "    \n",
    "plt.plot(threshold,recall,label='recall')\n",
    "plt.plot(threshold,precision,label='Precision')\n",
    "plt.legend(loc='best')"
   ]
  },
  {
   "cell_type": "code",
   "execution_count": 41,
   "metadata": {},
   "outputs": [
    {
     "data": {
      "text/plain": [
       "<matplotlib.legend.Legend at 0x16f4473d898>"
      ]
     },
     "execution_count": 41,
     "metadata": {},
     "output_type": "execute_result"
    },
    {
     "data": {
      "image/png": "[encoded data removed]",
      "text/plain": [
       "<Figure size 1440x720 with 1 Axes>"
      ]
     },
     "metadata": {
      "needs_background": "light"
     },
     "output_type": "display_data"
    }
   ],
   "source": [
    "pred_prob=clf_hin.predict_proba(xtest_bio)[:,1]\n",
    "ind=[]\n",
    "recall=[]\n",
    "accuracy=[]\n",
    "li=np.arange(.1,.9,0.01)\n",
    "for i in li:\n",
    "    pred=np.where(pred_prob<i,0,1)\n",
    "    recall.append(metrics.recall_score(ytest_bio, pred_lr_bio))\n",
    "    accuracy.append(metrics.accuracy_score(ytest_bio, pred_lr_bio))\n",
    "    ind.append(i)\n",
    "plt.figure(figsize=(20,10))\n",
    "plt.plot(li,recall,label='recall')\n",
    "plt.plot(li,accuracy,label='accuracy')\n",
    "plt.legend(loc='best')"
   ]
  },
  {
   "cell_type": "markdown",
   "metadata": {},
   "source": [
    "# Schiller"
   ]
  },
  {
   "cell_type": "code",
   "execution_count": 42,
   "metadata": {},
   "outputs": [
    {
     "data": {
      "text/html": [
       "<div>\n",
       "<style scoped>\n",
       "    .dataframe tbody tr th:only-of-type {\n",
       "        vertical-align: middle;\n",
       "    }\n",
       "\n",
       "    .dataframe tbody tr th {\n",
       "        vertical-align: top;\n",
       "    }\n",
       "\n",
       "    .dataframe thead th {\n",
       "        text-align: right;\n",
       "    }\n",
       "</style>\n",
       "<table border=\"1\" class=\"dataframe\">\n",
       "  <thead>\n",
       "    <tr style=\"text-align: right;\">\n",
       "      <th></th>\n",
       "      <th>0</th>\n",
       "    </tr>\n",
       "  </thead>\n",
       "  <tbody>\n",
       "    <tr>\n",
       "      <th>accuracy</th>\n",
       "      <td>74.806202</td>\n",
       "    </tr>\n",
       "    <tr>\n",
       "      <th>recall</th>\n",
       "      <td>41.176471</td>\n",
       "    </tr>\n",
       "    <tr>\n",
       "      <th>precision</th>\n",
       "      <td>11.290323</td>\n",
       "    </tr>\n",
       "    <tr>\n",
       "      <th>roc_auc_score</th>\n",
       "      <td>59.177447</td>\n",
       "    </tr>\n",
       "  </tbody>\n",
       "</table>\n",
       "</div>"
      ],
      "text/plain": [
       "                       0\n",
       "accuracy       74.806202\n",
       "recall         41.176471\n",
       "precision      11.290323\n",
       "roc_auc_score  59.177447"
      ]
     },
     "execution_count": 42,
     "metadata": {},
     "output_type": "execute_result"
    }
   ],
   "source": [
    "clf_sch = LogisticRegression()\n",
    "clf_sch.fit(xtrain_sch,ytrain_sch)\n",
    "THRESHOLD = 0.35\n",
    "pred_lr_sch = np.where((clf_sch.predict_proba(xtest_sch)[:,1] >= THRESHOLD), 1, 0)\n",
    "\n",
    "pd.DataFrame(data=[accuracy_score(ytest_sch, pred_lr_sch)*100, recall_score(ytest_sch, pred_lr_sch)*100,\n",
    "                   precision_score(ytest_sch, pred_lr_sch)*100, roc_auc_score(ytest_sch, pred_lr_sch)*100], \n",
    "             index=[\"accuracy\", \"recall\", \"precision\", \"roc_auc_score\"])"
   ]
  },
  {
   "cell_type": "code",
   "execution_count": 43,
   "metadata": {},
   "outputs": [
    {
     "name": "stdout",
     "output_type": "stream",
     "text": [
      "              precision    recall  f1-score   support\n",
      "\n",
      "           0       0.95      0.77      0.85       241\n",
      "           1       0.11      0.41      0.18        17\n",
      "\n",
      "   micro avg       0.75      0.75      0.75       258\n",
      "   macro avg       0.53      0.59      0.51       258\n",
      "weighted avg       0.89      0.75      0.81       258\n",
      "\n"
     ]
    }
   ],
   "source": [
    "print(classification_report(ytest_sch, pred_lr_sch))"
   ]
  },
  {
   "cell_type": "code",
   "execution_count": 44,
   "metadata": {},
   "outputs": [
    {
     "data": {
      "text/plain": [
       "array([[186,  55],\n",
       "       [ 10,   7]], dtype=int64)"
      ]
     },
     "execution_count": 44,
     "metadata": {},
     "output_type": "execute_result"
    }
   ],
   "source": [
    "confusion_matrix(ytest_sch, pred_lr_sch)"
   ]
  },
  {
   "cell_type": "code",
   "execution_count": 45,
   "metadata": {},
   "outputs": [
    {
     "data": {
      "image/png": "[encoded data removed]",
      "text/plain": [
       "<Figure size 432x288 with 1 Axes>"
      ]
     },
     "metadata": {
      "needs_background": "light"
     },
     "output_type": "display_data"
    },
    {
     "name": "stdout",
     "output_type": "stream",
     "text": [
      "The AUC value for Logistic Regression(SMOTE) is: 0.591774469123749\n"
     ]
    }
   ],
   "source": [
    "fpr, tpr, thresholds = roc_curve(ytest_sch, pred_lr_sch)\n",
    "plt.plot(fpr, tpr)\n",
    "plt.xlim([0.0, 1.0])\n",
    "plt.ylim([0.0, 1.0])\n",
    "plt.xlabel('False Positive Rate')\n",
    "plt.ylabel('True Positive Rate')\n",
    "plt.title('Receiver operating characteristic of Logistic Regression')\n",
    "plt.show()\n",
    "roc_auc = auc(fpr, tpr)\n",
    "print('The AUC value for Logistic Regression(SMOTE) is:',roc_auc)"
   ]
  },
  {
   "cell_type": "markdown",
   "metadata": {},
   "source": [
    "Changing Threshold"
   ]
  },
  {
   "cell_type": "code",
   "execution_count": 46,
   "metadata": {},
   "outputs": [
    {
     "data": {
      "text/plain": [
       "<matplotlib.legend.Legend at 0x16f447c6ac8>"
      ]
     },
     "execution_count": 46,
     "metadata": {},
     "output_type": "execute_result"
    },
    {
     "data": {
      "image/png": "[encoded data removed]",
      "text/plain": [
       "<Figure size 432x288 with 1 Axes>"
      ]
     },
     "metadata": {
      "needs_background": "light"
     },
     "output_type": "display_data"
    }
   ],
   "source": [
    "threshold=[]\n",
    "recall=[]\n",
    "precision=[]\n",
    "for t in np.arange(0.1,1,0.01):\n",
    "    threshold.append(t)\n",
    "    pred_lr_sch=np.where(clf_sch.predict_proba(xtest_sch)[:,1] > t, 1, 0)\n",
    "    recall.append(recall_score(ytest_sch, pred_lr_sch))\n",
    "    precision.append(precision_score(ytest_sch, pred_lr_sch))  \n",
    "    \n",
    "    \n",
    "plt.plot(threshold,recall,label='recall')\n",
    "plt.plot(threshold,precision,label='Precision')\n",
    "plt.legend(loc='best')"
   ]
  },
  {
   "cell_type": "markdown",
   "metadata": {},
   "source": [
    "# Citology"
   ]
  },
  {
   "cell_type": "code",
   "execution_count": 47,
   "metadata": {},
   "outputs": [
    {
     "data": {
      "text/html": [
       "<div>\n",
       "<style scoped>\n",
       "    .dataframe tbody tr th:only-of-type {\n",
       "        vertical-align: middle;\n",
       "    }\n",
       "\n",
       "    .dataframe tbody tr th {\n",
       "        vertical-align: top;\n",
       "    }\n",
       "\n",
       "    .dataframe thead th {\n",
       "        text-align: right;\n",
       "    }\n",
       "</style>\n",
       "<table border=\"1\" class=\"dataframe\">\n",
       "  <thead>\n",
       "    <tr style=\"text-align: right;\">\n",
       "      <th></th>\n",
       "      <th>0</th>\n",
       "    </tr>\n",
       "  </thead>\n",
       "  <tbody>\n",
       "    <tr>\n",
       "      <th>accuracy</th>\n",
       "      <td>75.968992</td>\n",
       "    </tr>\n",
       "    <tr>\n",
       "      <th>recall</th>\n",
       "      <td>35.294118</td>\n",
       "    </tr>\n",
       "    <tr>\n",
       "      <th>precision</th>\n",
       "      <td>10.526316</td>\n",
       "    </tr>\n",
       "    <tr>\n",
       "      <th>roc_auc_score</th>\n",
       "      <td>57.066146</td>\n",
       "    </tr>\n",
       "  </tbody>\n",
       "</table>\n",
       "</div>"
      ],
      "text/plain": [
       "                       0\n",
       "accuracy       75.968992\n",
       "recall         35.294118\n",
       "precision      10.526316\n",
       "roc_auc_score  57.066146"
      ]
     },
     "execution_count": 47,
     "metadata": {},
     "output_type": "execute_result"
    }
   ],
   "source": [
    "clf_cit = LogisticRegression()\n",
    "clf_cit.fit(xtrain_cit,ytrain_cit)\n",
    "THRESHOLD = 0.35\n",
    "pred_lr_cit = np.where((clf_cit.predict_proba(xtest_cit)[:,1] >= THRESHOLD), 1, 0)\n",
    "\n",
    "pd.DataFrame(data=[accuracy_score(ytest_cit, pred_lr_cit)*100, recall_score(ytest_cit, pred_lr_cit)*100,\n",
    "                   precision_score(ytest_cit, pred_lr_cit)*100, roc_auc_score(ytest_cit, pred_lr_cit)*100], \n",
    "             index=[\"accuracy\", \"recall\", \"precision\", \"roc_auc_score\"])"
   ]
  },
  {
   "cell_type": "code",
   "execution_count": 48,
   "metadata": {},
   "outputs": [
    {
     "name": "stdout",
     "output_type": "stream",
     "text": [
      "              precision    recall  f1-score   support\n",
      "\n",
      "           0       0.95      0.79      0.86       241\n",
      "           1       0.11      0.35      0.16        17\n",
      "\n",
      "   micro avg       0.76      0.76      0.76       258\n",
      "   macro avg       0.53      0.57      0.51       258\n",
      "weighted avg       0.89      0.76      0.81       258\n",
      "\n"
     ]
    }
   ],
   "source": [
    "print(classification_report(ytest_cit, pred_lr_cit))"
   ]
  },
  {
   "cell_type": "code",
   "execution_count": 49,
   "metadata": {},
   "outputs": [
    {
     "data": {
      "text/plain": [
       "array([[190,  51],\n",
       "       [ 11,   6]], dtype=int64)"
      ]
     },
     "execution_count": 49,
     "metadata": {},
     "output_type": "execute_result"
    }
   ],
   "source": [
    "confusion_matrix(ytest_cit, pred_lr_cit)"
   ]
  },
  {
   "cell_type": "code",
   "execution_count": 50,
   "metadata": {},
   "outputs": [
    {
     "data": {
      "image/png": "[encoded data removed]",
      "text/plain": [
       "<Figure size 432x288 with 1 Axes>"
      ]
     },
     "metadata": {
      "needs_background": "light"
     },
     "output_type": "display_data"
    },
    {
     "name": "stdout",
     "output_type": "stream",
     "text": [
      "The AUC value for Logistic Regression(SMOTE) is: 0.5706614596045887\n"
     ]
    }
   ],
   "source": [
    "fpr, tpr, thresholds = roc_curve(ytest_cit, pred_lr_cit)\n",
    "plt.plot(fpr, tpr)\n",
    "plt.xlim([0.0, 1.0])\n",
    "plt.ylim([0.0, 1.0])\n",
    "plt.xlabel('False Positive Rate')\n",
    "plt.ylabel('True Positive Rate')\n",
    "plt.title('Receiver operating characteristic of Logistic Regression')\n",
    "plt.show()\n",
    "roc_auc = auc(fpr, tpr)\n",
    "print('The AUC value for Logistic Regression(SMOTE) is:',roc_auc)"
   ]
  },
  {
   "cell_type": "markdown",
   "metadata": {},
   "source": [
    "# Changing Threshold"
   ]
  },
  {
   "cell_type": "code",
   "execution_count": 51,
   "metadata": {},
   "outputs": [
    {
     "data": {
      "text/plain": [
       "<matplotlib.legend.Legend at 0x16f445552e8>"
      ]
     },
     "execution_count": 51,
     "metadata": {},
     "output_type": "execute_result"
    },
    {
     "data": {
      "image/png": "[encoded data removed]",
      "text/plain": [
       "<Figure size 432x288 with 1 Axes>"
      ]
     },
     "metadata": {
      "needs_background": "light"
     },
     "output_type": "display_data"
    }
   ],
   "source": [
    "threshold=[]\n",
    "recall=[]\n",
    "precision=[]\n",
    "for t in np.arange(0.1,1,0.01):\n",
    "    threshold.append(t)\n",
    "    pred_lr_cit=np.where(clf_cit.predict_proba(xtest_cit)[:,1] > t, 1, 0)\n",
    "    recall.append(recall_score(ytest_cit, pred_lr_cit))\n",
    "    precision.append(precision_score(ytest_cit, pred_lr_cit))  \n",
    "    \n",
    "    \n",
    "plt.plot(threshold,recall,label='recall')\n",
    "plt.plot(threshold,precision,label='Precision')\n",
    "plt.legend(loc='best')"
   ]
  },
  {
   "cell_type": "code",
   "execution_count": 52,
   "metadata": {},
   "outputs": [
    {
     "data": {
      "text/html": [
       "<div>\n",
       "<style scoped>\n",
       "    .dataframe tbody tr th:only-of-type {\n",
       "        vertical-align: middle;\n",
       "    }\n",
       "\n",
       "    .dataframe tbody tr th {\n",
       "        vertical-align: top;\n",
       "    }\n",
       "\n",
       "    .dataframe thead th {\n",
       "        text-align: right;\n",
       "    }\n",
       "</style>\n",
       "<table border=\"1\" class=\"dataframe\">\n",
       "  <thead>\n",
       "    <tr style=\"text-align: right;\">\n",
       "      <th></th>\n",
       "      <th>0</th>\n",
       "    </tr>\n",
       "  </thead>\n",
       "  <tbody>\n",
       "    <tr>\n",
       "      <th>accuracy</th>\n",
       "      <td>75.968992</td>\n",
       "    </tr>\n",
       "    <tr>\n",
       "      <th>recall</th>\n",
       "      <td>23.529412</td>\n",
       "    </tr>\n",
       "    <tr>\n",
       "      <th>precision</th>\n",
       "      <td>7.547170</td>\n",
       "    </tr>\n",
       "    <tr>\n",
       "      <th>roc_auc_score</th>\n",
       "      <td>51.598731</td>\n",
       "    </tr>\n",
       "  </tbody>\n",
       "</table>\n",
       "</div>"
      ],
      "text/plain": [
       "                       0\n",
       "accuracy       75.968992\n",
       "recall         23.529412\n",
       "precision       7.547170\n",
       "roc_auc_score  51.598731"
      ]
     },
     "execution_count": 52,
     "metadata": {},
     "output_type": "execute_result"
    }
   ],
   "source": [
    "clf_cit = LogisticRegression()\n",
    "clf_cit.fit(xtrain_cit,ytrain_cit)\n",
    "THRESHOLD = 0.37\n",
    "pred_lr_cit = np.where((clf_cit.predict_proba(xtest_cit)[:,1] >= THRESHOLD), 1, 0)\n",
    "\n",
    "pd.DataFrame(data=[accuracy_score(ytest_cit, pred_lr_cit)*100, recall_score(ytest_cit, pred_lr_cit)*100,\n",
    "                   precision_score(ytest_cit, pred_lr_cit)*100, roc_auc_score(ytest_cit, pred_lr_cit)*100], \n",
    "             index=[\"accuracy\", \"recall\", \"precision\", \"roc_auc_score\"])"
   ]
  },
  {
   "cell_type": "markdown",
   "metadata": {},
   "source": [
    "# Random Forest"
   ]
  },
  {
   "cell_type": "markdown",
   "metadata": {},
   "source": [
    "# Hinselmann"
   ]
  },
  {
   "cell_type": "code",
   "execution_count": 53,
   "metadata": {},
   "outputs": [
    {
     "data": {
      "text/html": [
       "<div>\n",
       "<style scoped>\n",
       "    .dataframe tbody tr th:only-of-type {\n",
       "        vertical-align: middle;\n",
       "    }\n",
       "\n",
       "    .dataframe tbody tr th {\n",
       "        vertical-align: top;\n",
       "    }\n",
       "\n",
       "    .dataframe thead th {\n",
       "        text-align: right;\n",
       "    }\n",
       "</style>\n",
       "<table border=\"1\" class=\"dataframe\">\n",
       "  <thead>\n",
       "    <tr style=\"text-align: right;\">\n",
       "      <th></th>\n",
       "      <th>0</th>\n",
       "    </tr>\n",
       "  </thead>\n",
       "  <tbody>\n",
       "    <tr>\n",
       "      <th>accuracy</th>\n",
       "      <td>92.248062</td>\n",
       "    </tr>\n",
       "    <tr>\n",
       "      <th>recall</th>\n",
       "      <td>0.000000</td>\n",
       "    </tr>\n",
       "    <tr>\n",
       "      <th>precision</th>\n",
       "      <td>0.000000</td>\n",
       "    </tr>\n",
       "    <tr>\n",
       "      <th>roc_auc_score</th>\n",
       "      <td>47.791165</td>\n",
       "    </tr>\n",
       "  </tbody>\n",
       "</table>\n",
       "</div>"
      ],
      "text/plain": [
       "                       0\n",
       "accuracy       92.248062\n",
       "recall          0.000000\n",
       "precision       0.000000\n",
       "roc_auc_score  47.791165"
      ]
     },
     "execution_count": 53,
     "metadata": {},
     "output_type": "execute_result"
    }
   ],
   "source": [
    "rf_hin = RandomForestClassifier(n_estimators=200, criterion = 'entropy',max_features='sqrt', max_depth=7, random_state=7)\n",
    "rf_hin.fit(xtrain_hin,ytrain_hin)\n",
    "THRESHOLD = 0.35\n",
    "pred_rf_hin = np.where((rf_hin.predict_proba(xtest_hin)[:,1] >= THRESHOLD), 1, 0)\n",
    "\n",
    "pd.DataFrame(data=[accuracy_score(ytest_hin, pred_rf_hin)*100, recall_score(ytest_hin, pred_rf_hin)*100,\n",
    "                   precision_score(ytest_hin, pred_rf_hin)*100, roc_auc_score(ytest_hin, pred_rf_hin)*100], \n",
    "             index=[\"accuracy\", \"recall\", \"precision\", \"roc_auc_score\"])"
   ]
  },
  {
   "cell_type": "code",
   "execution_count": 54,
   "metadata": {},
   "outputs": [
    {
     "name": "stdout",
     "output_type": "stream",
     "text": [
      "              precision    recall  f1-score   support\n",
      "\n",
      "           0       0.96      0.96      0.96       249\n",
      "           1       0.00      0.00      0.00         9\n",
      "\n",
      "   micro avg       0.92      0.92      0.92       258\n",
      "   macro avg       0.48      0.48      0.48       258\n",
      "weighted avg       0.93      0.92      0.93       258\n",
      "\n"
     ]
    }
   ],
   "source": [
    "print(classification_report(ytest_hin, pred_rf_hin))"
   ]
  },
  {
   "cell_type": "code",
   "execution_count": 55,
   "metadata": {},
   "outputs": [
    {
     "data": {
      "text/plain": [
       "array([[238,  11],\n",
       "       [  9,   0]], dtype=int64)"
      ]
     },
     "execution_count": 55,
     "metadata": {},
     "output_type": "execute_result"
    }
   ],
   "source": [
    "confusion_matrix(ytest_hin, pred_rf_hin)"
   ]
  },
  {
   "cell_type": "code",
   "execution_count": 56,
   "metadata": {},
   "outputs": [
    {
     "data": {
      "image/png": "[encoded data removed]",
      "text/plain": [
       "<Figure size 432x288 with 1 Axes>"
      ]
     },
     "metadata": {
      "needs_background": "light"
     },
     "output_type": "display_data"
    },
    {
     "name": "stdout",
     "output_type": "stream",
     "text": [
      "The AUC value for Logistic Regression(SMOTE) is: 0.4779116465863454\n"
     ]
    }
   ],
   "source": [
    "fpr, tpr, thresholds = roc_curve(ytest_hin, pred_rf_hin)\n",
    "plt.plot(fpr, tpr)\n",
    "plt.xlim([0.0, 1.0])\n",
    "plt.ylim([0.0, 1.0])\n",
    "plt.xlabel('False Positive Rate')\n",
    "plt.ylabel('True Positive Rate')\n",
    "plt.title('Receiver operating characteristic of Logistic Regression')\n",
    "plt.show()\n",
    "roc_auc = auc(fpr, tpr)\n",
    "print('The AUC value for Logistic Regression(SMOTE) is:',roc_auc)"
   ]
  },
  {
   "cell_type": "raw",
   "metadata": {},
   "source": [
    "features=xtrain_hin.columns\n",
    "importances = rf_hin.feature_importances_\n",
    "indices = np.argsort(importances)\n",
    "\n",
    "plt.figure(1)\n",
    "plt.title('Feature Importances')\n",
    "plt.barh(range(len(indices)), importances[indices], color='c', align='center')\n",
    "plt.yticks(range(len(indices)), features[indices])\n",
    "plt.xlabel('Relative Importance')\n",
    "#plt.figure(figsize=(25,9))"
   ]
  },
  {
   "cell_type": "code",
   "execution_count": 57,
   "metadata": {},
   "outputs": [
    {
     "name": "stdout",
     "output_type": "stream",
     "text": [
      "                                         Imp\n",
      "Num of pregnancies                  0.164687\n",
      "Hormonal Contraceptives (years)     0.141803\n",
      "First sexual intercourse            0.108859\n",
      "Hormonal Contraceptives             0.091531\n",
      "Age                                 0.090726\n",
      "Dx:Cancer                           0.048452\n",
      "Number of sexual partners           0.046580\n",
      "IUD                                 0.045636\n",
      "Dx:HPV                              0.043722\n",
      "IUD (years)                         0.035574\n",
      "Smokes (years)                      0.025502\n",
      "Smokes                              0.025268\n",
      "Smokes (packs/year)                 0.024169\n",
      "STDs:HIV                            0.023060\n",
      "STDs (number)                       0.016227\n",
      "STDs:condylomatosis                 0.013942\n",
      "STDs: Time since last diagnosis     0.013925\n",
      "STDs: Time since first diagnosis    0.013669\n",
      "STDs:vulvo-perineal condylomatosis  0.011117\n",
      "STDs                                0.005988\n",
      "STDs: Number of diagnosis           0.005192\n",
      "Dx                                  0.003292\n",
      "STDs:syphilis                       0.000610\n",
      "Dx:CIN                              0.000229\n",
      "STDs:HPV                            0.000078\n",
      "STDs:vaginal condylomatosis         0.000066\n",
      "STDs:genital herpes                 0.000062\n",
      "STDs:molluscum contagiosum          0.000030\n",
      "STDs:pelvic inflammatory disease    0.000005\n",
      "STDs:AIDS                           0.000000\n",
      "STDs:Hepatitis B                    0.000000\n",
      "STDs:cervical condylomatosis        0.000000\n"
     ]
    }
   ],
   "source": [
    "feat_hin=pd.DataFrame(rf_hin.feature_importances_, columns = [\"Imp\"], index = xtrain_hin.columns)\n",
    "feat_hin.sort_values(by='Imp',inplace=True,ascending=False)\n",
    "print(feat_hin)"
   ]
  },
  {
   "cell_type": "code",
   "execution_count": 58,
   "metadata": {},
   "outputs": [
    {
     "name": "stdout",
     "output_type": "stream",
     "text": [
      "                                         Imp\n",
      "Age                                 0.090726\n",
      "Number of sexual partners           0.046580\n",
      "First sexual intercourse            0.108859\n",
      "Num of pregnancies                  0.164687\n",
      "Smokes                              0.025268\n",
      "Smokes (years)                      0.025502\n",
      "Smokes (packs/year)                 0.024169\n",
      "Hormonal Contraceptives             0.091531\n",
      "Hormonal Contraceptives (years)     0.141803\n",
      "IUD                                 0.045636\n",
      "IUD (years)                         0.035574\n",
      "STDs                                0.005988\n",
      "STDs (number)                       0.016227\n",
      "STDs:condylomatosis                 0.013942\n",
      "STDs:cervical condylomatosis        0.000000\n",
      "STDs:vaginal condylomatosis         0.000066\n",
      "STDs:vulvo-perineal condylomatosis  0.011117\n",
      "STDs:syphilis                       0.000610\n",
      "STDs:pelvic inflammatory disease    0.000005\n",
      "STDs:genital herpes                 0.000062\n",
      "STDs:molluscum contagiosum          0.000030\n",
      "STDs:AIDS                           0.000000\n",
      "STDs:HIV                            0.023060\n",
      "STDs:Hepatitis B                    0.000000\n",
      "STDs:HPV                            0.000078\n",
      "STDs: Number of diagnosis           0.005192\n",
      "STDs: Time since first diagnosis    0.013669\n",
      "STDs: Time since last diagnosis     0.013925\n",
      "Dx:Cancer                           0.048452\n",
      "Dx:CIN                              0.000229\n",
      "Dx:HPV                              0.043722\n",
      "Dx                                  0.003292\n"
     ]
    },
    {
     "data": {
      "text/plain": [
       "Text(0, 0.5, 'Features')"
      ]
     },
     "execution_count": 58,
     "metadata": {},
     "output_type": "execute_result"
    },
    {
     "data": {
      "image/png": "[encoded data removed]",
      "text/plain": [
       "<Figure size 432x288 with 1 Axes>"
      ]
     },
     "metadata": {
      "needs_background": "light"
     },
     "output_type": "display_data"
    }
   ],
   "source": [
    "print (pd.DataFrame(rf_hin.feature_importances_, columns = [\"Imp\"], index = xtrain_hin.columns))\n",
    "feat_importances = pd.Series(rf_hin.feature_importances_, index=xtrain_hin.columns)\n",
    "feat_importances.nlargest(10).plot(kind='barh',color='c')\n",
    "plt.title('Feature Importances-Hinselmann')\n",
    "plt.xlabel('Relative Importance')\n",
    "plt.ylabel('Features')"
   ]
  },
  {
   "cell_type": "code",
   "execution_count": 59,
   "metadata": {},
   "outputs": [
    {
     "name": "stdout",
     "output_type": "stream",
     "text": [
      "                                         Imp\n",
      "Age                                 0.090726\n",
      "Number of sexual partners           0.046580\n",
      "First sexual intercourse            0.108859\n",
      "Num of pregnancies                  0.164687\n",
      "Smokes                              0.025268\n",
      "Smokes (years)                      0.025502\n",
      "Smokes (packs/year)                 0.024169\n",
      "Hormonal Contraceptives             0.091531\n",
      "Hormonal Contraceptives (years)     0.141803\n",
      "IUD                                 0.045636\n",
      "IUD (years)                         0.035574\n",
      "STDs                                0.005988\n",
      "STDs (number)                       0.016227\n",
      "STDs:condylomatosis                 0.013942\n",
      "STDs:cervical condylomatosis        0.000000\n",
      "STDs:vaginal condylomatosis         0.000066\n",
      "STDs:vulvo-perineal condylomatosis  0.011117\n",
      "STDs:syphilis                       0.000610\n",
      "STDs:pelvic inflammatory disease    0.000005\n",
      "STDs:genital herpes                 0.000062\n",
      "STDs:molluscum contagiosum          0.000030\n",
      "STDs:AIDS                           0.000000\n",
      "STDs:HIV                            0.023060\n",
      "STDs:Hepatitis B                    0.000000\n",
      "STDs:HPV                            0.000078\n",
      "STDs: Number of diagnosis           0.005192\n",
      "STDs: Time since first diagnosis    0.013669\n",
      "STDs: Time since last diagnosis     0.013925\n",
      "Dx:Cancer                           0.048452\n",
      "Dx:CIN                              0.000229\n",
      "Dx:HPV                              0.043722\n",
      "Dx                                  0.003292\n"
     ]
    }
   ],
   "source": [
    "print (pd.DataFrame(rf_hin.feature_importances_, columns = [\"Imp\"], index = xtrain_hin.columns))"
   ]
  },
  {
   "cell_type": "markdown",
   "metadata": {},
   "source": [
    "# Biopsy"
   ]
  },
  {
   "cell_type": "code",
   "execution_count": 60,
   "metadata": {},
   "outputs": [
    {
     "data": {
      "text/html": [
       "<div>\n",
       "<style scoped>\n",
       "    .dataframe tbody tr th:only-of-type {\n",
       "        vertical-align: middle;\n",
       "    }\n",
       "\n",
       "    .dataframe tbody tr th {\n",
       "        vertical-align: top;\n",
       "    }\n",
       "\n",
       "    .dataframe thead th {\n",
       "        text-align: right;\n",
       "    }\n",
       "</style>\n",
       "<table border=\"1\" class=\"dataframe\">\n",
       "  <thead>\n",
       "    <tr style=\"text-align: right;\">\n",
       "      <th></th>\n",
       "      <th>0</th>\n",
       "    </tr>\n",
       "  </thead>\n",
       "  <tbody>\n",
       "    <tr>\n",
       "      <th>accuracy</th>\n",
       "      <td>92.635659</td>\n",
       "    </tr>\n",
       "    <tr>\n",
       "      <th>recall</th>\n",
       "      <td>0.000000</td>\n",
       "    </tr>\n",
       "    <tr>\n",
       "      <th>precision</th>\n",
       "      <td>0.000000</td>\n",
       "    </tr>\n",
       "    <tr>\n",
       "      <th>roc_auc_score</th>\n",
       "      <td>48.577236</td>\n",
       "    </tr>\n",
       "  </tbody>\n",
       "</table>\n",
       "</div>"
      ],
      "text/plain": [
       "                       0\n",
       "accuracy       92.635659\n",
       "recall          0.000000\n",
       "precision       0.000000\n",
       "roc_auc_score  48.577236"
      ]
     },
     "execution_count": 60,
     "metadata": {},
     "output_type": "execute_result"
    }
   ],
   "source": [
    "rf_bio = RandomForestClassifier(n_estimators=200, criterion = 'entropy',max_features='sqrt', max_depth=7, random_state=7)\n",
    "rf_bio.fit(xtrain_bio,ytrain_bio)\n",
    "THRESHOLD = 0.35\n",
    "pred_rf_bio = np.where((rf_bio.predict_proba(xtest_bio)[:,1] >= THRESHOLD), 1, 0)\n",
    "\n",
    "pd.DataFrame(data=[accuracy_score(ytest_bio, pred_rf_bio)*100, recall_score(ytest_bio, pred_rf_bio)*100,\n",
    "                   precision_score(ytest_bio, pred_rf_bio)*100, roc_auc_score(ytest_bio, pred_rf_bio)*100], \n",
    "             index=[\"accuracy\", \"recall\", \"precision\", \"roc_auc_score\"])"
   ]
  },
  {
   "cell_type": "code",
   "execution_count": 61,
   "metadata": {},
   "outputs": [
    {
     "name": "stdout",
     "output_type": "stream",
     "text": [
      "              precision    recall  f1-score   support\n",
      "\n",
      "           0       0.95      0.97      0.96       246\n",
      "           1       0.00      0.00      0.00        12\n",
      "\n",
      "   micro avg       0.93      0.93      0.93       258\n",
      "   macro avg       0.48      0.49      0.48       258\n",
      "weighted avg       0.91      0.93      0.92       258\n",
      "\n"
     ]
    }
   ],
   "source": [
    "print(classification_report(ytest_bio, pred_rf_bio))"
   ]
  },
  {
   "cell_type": "code",
   "execution_count": 62,
   "metadata": {},
   "outputs": [
    {
     "data": {
      "text/plain": [
       "array([[239,   7],\n",
       "       [ 12,   0]], dtype=int64)"
      ]
     },
     "execution_count": 62,
     "metadata": {},
     "output_type": "execute_result"
    }
   ],
   "source": [
    "confusion_matrix(ytest_bio, pred_rf_bio)"
   ]
  },
  {
   "cell_type": "code",
   "execution_count": 63,
   "metadata": {},
   "outputs": [
    {
     "data": {
      "image/png": "[encoded data removed]",
      "text/plain": [
       "<Figure size 432x288 with 1 Axes>"
      ]
     },
     "metadata": {
      "needs_background": "light"
     },
     "output_type": "display_data"
    },
    {
     "name": "stdout",
     "output_type": "stream",
     "text": [
      "The AUC value for Logistic Regression(SMOTE) is: 0.48577235772357724\n"
     ]
    }
   ],
   "source": [
    "fpr, tpr, thresholds = roc_curve(ytest_bio, pred_rf_bio)\n",
    "plt.plot(fpr, tpr)\n",
    "plt.xlim([0.0, 1.0])\n",
    "plt.ylim([0.0, 1.0])\n",
    "plt.xlabel('False Positive Rate')\n",
    "plt.ylabel('True Positive Rate')\n",
    "plt.title('Receiver operating characteristic of Logistic Regression')\n",
    "plt.show()\n",
    "roc_auc = auc(fpr, tpr)\n",
    "print('The AUC value for Logistic Regression(SMOTE) is:',roc_auc)"
   ]
  },
  {
   "cell_type": "markdown",
   "metadata": {},
   "source": [
    "# Citology"
   ]
  },
  {
   "cell_type": "code",
   "execution_count": 64,
   "metadata": {},
   "outputs": [
    {
     "data": {
      "text/html": [
       "<div>\n",
       "<style scoped>\n",
       "    .dataframe tbody tr th:only-of-type {\n",
       "        vertical-align: middle;\n",
       "    }\n",
       "\n",
       "    .dataframe tbody tr th {\n",
       "        vertical-align: top;\n",
       "    }\n",
       "\n",
       "    .dataframe thead th {\n",
       "        text-align: right;\n",
       "    }\n",
       "</style>\n",
       "<table border=\"1\" class=\"dataframe\">\n",
       "  <thead>\n",
       "    <tr style=\"text-align: right;\">\n",
       "      <th></th>\n",
       "      <th>0</th>\n",
       "    </tr>\n",
       "  </thead>\n",
       "  <tbody>\n",
       "    <tr>\n",
       "      <th>accuracy</th>\n",
       "      <td>91.860465</td>\n",
       "    </tr>\n",
       "    <tr>\n",
       "      <th>recall</th>\n",
       "      <td>5.882353</td>\n",
       "    </tr>\n",
       "    <tr>\n",
       "      <th>precision</th>\n",
       "      <td>16.666667</td>\n",
       "    </tr>\n",
       "    <tr>\n",
       "      <th>roc_auc_score</th>\n",
       "      <td>51.903832</td>\n",
       "    </tr>\n",
       "  </tbody>\n",
       "</table>\n",
       "</div>"
      ],
      "text/plain": [
       "                       0\n",
       "accuracy       91.860465\n",
       "recall          5.882353\n",
       "precision      16.666667\n",
       "roc_auc_score  51.903832"
      ]
     },
     "execution_count": 64,
     "metadata": {},
     "output_type": "execute_result"
    }
   ],
   "source": [
    "rf_cit = RandomForestClassifier(n_estimators=200, criterion = 'entropy',max_features='sqrt', max_depth=7, random_state=7)\n",
    "rf_cit.fit(xtrain_cit,ytrain_cit)\n",
    "THRESHOLD = 0.35\n",
    "pred_rf_cit = np.where((rf_cit.predict_proba(xtest_cit)[:,1] >= THRESHOLD), 1, 0)\n",
    "\n",
    "pd.DataFrame(data=[accuracy_score(ytest_cit, pred_rf_cit)*100, recall_score(ytest_cit, pred_rf_cit)*100,\n",
    "                   precision_score(ytest_cit, pred_rf_cit)*100, roc_auc_score(ytest_cit, pred_rf_cit)*100], \n",
    "             index=[\"accuracy\", \"recall\", \"precision\", \"roc_auc_score\"])"
   ]
  },
  {
   "cell_type": "code",
   "execution_count": 65,
   "metadata": {},
   "outputs": [
    {
     "name": "stdout",
     "output_type": "stream",
     "text": [
      "              precision    recall  f1-score   support\n",
      "\n",
      "           0       0.94      0.98      0.96       241\n",
      "           1       0.17      0.06      0.09        17\n",
      "\n",
      "   micro avg       0.92      0.92      0.92       258\n",
      "   macro avg       0.55      0.52      0.52       258\n",
      "weighted avg       0.89      0.92      0.90       258\n",
      "\n"
     ]
    }
   ],
   "source": [
    "print(classification_report(ytest_cit, pred_rf_cit))"
   ]
  },
  {
   "cell_type": "code",
   "execution_count": 66,
   "metadata": {},
   "outputs": [
    {
     "data": {
      "text/plain": [
       "array([[236,   5],\n",
       "       [ 16,   1]], dtype=int64)"
      ]
     },
     "execution_count": 66,
     "metadata": {},
     "output_type": "execute_result"
    }
   ],
   "source": [
    "confusion_matrix(ytest_cit, pred_rf_cit)"
   ]
  },
  {
   "cell_type": "code",
   "execution_count": 67,
   "metadata": {},
   "outputs": [
    {
     "data": {
      "image/png": "[encoded data removed]",
      "text/plain": [
       "<Figure size 432x288 with 1 Axes>"
      ]
     },
     "metadata": {
      "needs_background": "light"
     },
     "output_type": "display_data"
    },
    {
     "name": "stdout",
     "output_type": "stream",
     "text": [
      "The AUC value for Logistic Regression(SMOTE) is: 0.5190383207224798\n"
     ]
    }
   ],
   "source": [
    "fpr, tpr, thresholds = roc_curve(ytest_cit, pred_rf_cit)\n",
    "plt.plot(fpr, tpr)\n",
    "plt.xlim([0.0, 1.0])\n",
    "plt.ylim([0.0, 1.0])\n",
    "plt.xlabel('False Positive Rate')\n",
    "plt.ylabel('True Positive Rate')\n",
    "plt.title('Receiver operating characteristic of Logistic Regression')\n",
    "plt.show()\n",
    "roc_auc = auc(fpr, tpr)\n",
    "print('The AUC value for Logistic Regression(SMOTE) is:',roc_auc)"
   ]
  },
  {
   "cell_type": "markdown",
   "metadata": {},
   "source": [
    "# Schiller"
   ]
  },
  {
   "cell_type": "code",
   "execution_count": 68,
   "metadata": {},
   "outputs": [
    {
     "data": {
      "text/html": [
       "<div>\n",
       "<style scoped>\n",
       "    .dataframe tbody tr th:only-of-type {\n",
       "        vertical-align: middle;\n",
       "    }\n",
       "\n",
       "    .dataframe tbody tr th {\n",
       "        vertical-align: top;\n",
       "    }\n",
       "\n",
       "    .dataframe thead th {\n",
       "        text-align: right;\n",
       "    }\n",
       "</style>\n",
       "<table border=\"1\" class=\"dataframe\">\n",
       "  <thead>\n",
       "    <tr style=\"text-align: right;\">\n",
       "      <th></th>\n",
       "      <th>0</th>\n",
       "    </tr>\n",
       "  </thead>\n",
       "  <tbody>\n",
       "    <tr>\n",
       "      <th>accuracy</th>\n",
       "      <td>89.147287</td>\n",
       "    </tr>\n",
       "    <tr>\n",
       "      <th>recall</th>\n",
       "      <td>23.529412</td>\n",
       "    </tr>\n",
       "    <tr>\n",
       "      <th>precision</th>\n",
       "      <td>21.052632</td>\n",
       "    </tr>\n",
       "    <tr>\n",
       "      <th>roc_auc_score</th>\n",
       "      <td>58.652673</td>\n",
       "    </tr>\n",
       "  </tbody>\n",
       "</table>\n",
       "</div>"
      ],
      "text/plain": [
       "                       0\n",
       "accuracy       89.147287\n",
       "recall         23.529412\n",
       "precision      21.052632\n",
       "roc_auc_score  58.652673"
      ]
     },
     "execution_count": 68,
     "metadata": {},
     "output_type": "execute_result"
    }
   ],
   "source": [
    "rf_sch = RandomForestClassifier(n_estimators=200, criterion = 'entropy',max_features='sqrt', max_depth=7, random_state=7)\n",
    "rf_sch.fit(xtrain_sch,ytrain_sch)\n",
    "THRESHOLD = 0.35\n",
    "pred_rf_sch = np.where((rf_sch.predict_proba(xtest_sch)[:,1] >= THRESHOLD), 1, 0)\n",
    "\n",
    "pd.DataFrame(data=[accuracy_score(ytest_sch, pred_rf_sch)*100, recall_score(ytest_sch, pred_rf_sch)*100,\n",
    "                   precision_score(ytest_sch, pred_rf_sch)*100, roc_auc_score(ytest_sch, pred_rf_sch)*100], \n",
    "             index=[\"accuracy\", \"recall\", \"precision\", \"roc_auc_score\"])"
   ]
  },
  {
   "cell_type": "code",
   "execution_count": 69,
   "metadata": {},
   "outputs": [
    {
     "name": "stdout",
     "output_type": "stream",
     "text": [
      "              precision    recall  f1-score   support\n",
      "\n",
      "           0       0.95      0.94      0.94       241\n",
      "           1       0.21      0.24      0.22        17\n",
      "\n",
      "   micro avg       0.89      0.89      0.89       258\n",
      "   macro avg       0.58      0.59      0.58       258\n",
      "weighted avg       0.90      0.89      0.89       258\n",
      "\n"
     ]
    }
   ],
   "source": [
    "print(classification_report(ytest_sch, pred_rf_sch))"
   ]
  },
  {
   "cell_type": "code",
   "execution_count": 70,
   "metadata": {},
   "outputs": [
    {
     "data": {
      "text/plain": [
       "array([[226,  15],\n",
       "       [ 13,   4]], dtype=int64)"
      ]
     },
     "execution_count": 70,
     "metadata": {},
     "output_type": "execute_result"
    }
   ],
   "source": [
    "confusion_matrix(ytest_sch, pred_rf_sch)"
   ]
  },
  {
   "cell_type": "code",
   "execution_count": 71,
   "metadata": {},
   "outputs": [
    {
     "data": {
      "image/png": "[encoded data removed]",
      "text/plain": [
       "<Figure size 432x288 with 1 Axes>"
      ]
     },
     "metadata": {
      "needs_background": "light"
     },
     "output_type": "display_data"
    },
    {
     "name": "stdout",
     "output_type": "stream",
     "text": [
      "The AUC value for Logistic Regression(SMOTE) is: 0.586526726873322\n"
     ]
    }
   ],
   "source": [
    "fpr, tpr, thresholds = roc_curve(ytest_sch, pred_rf_sch)\n",
    "plt.plot(fpr, tpr)\n",
    "plt.xlim([0.0, 1.0])\n",
    "plt.ylim([0.0, 1.0])\n",
    "plt.xlabel('False Positive Rate')\n",
    "plt.ylabel('True Positive Rate')\n",
    "plt.title('Receiver operating characteristic of Logistic Regression')\n",
    "plt.show()\n",
    "roc_auc = auc(fpr, tpr)\n",
    "print('The AUC value for Logistic Regression(SMOTE) is:',roc_auc)"
   ]
  }
 ],
 "metadata": {
  "kernelspec": {
   "display_name": "Python 3",
   "language": "python",
   "name": "python3"
  },
  "language_info": {
   "codemirror_mode": {
    "name": "ipython",
    "version": 3
   },
   "file_extension": ".py",
   "mimetype": "text/x-python",
   "name": "python",
   "nbconvert_exporter": "python",
   "pygments_lexer": "ipython3",
   "version": "3.6.5"
  }
 },
 "nbformat": 4,
 "nbformat_minor": 2
}
